{
 "cells": [
  {
   "cell_type": "markdown",
   "id": "a07bd584",
   "metadata": {},
   "source": [
    "# Theory of Complex Vector Spaces\n",
    "Complex vector spaces extend the idea of real vector spaces by allowing vectors to have complex numbers as their components. In these spaces, vectors can be added together and multiplied by complex scalars to produce new vectors. Key operations in complex vector spaces include vector addition, scalar multiplication, vector negation, and complex conjugation."
   ]
  },
  {
   "cell_type": "markdown",
   "id": "f43fc972-23ab-4d81-aa26-c51325dac8f3",
   "metadata": {},
   "source": [
    "# Creating complex column vectors"
   ]
  },
  {
   "cell_type": "code",
   "execution_count": 1,
   "id": "029f08ba-1cdc-4928-9631-f62c51ab7aa5",
   "metadata": {
    "scrolled": true
   },
   "outputs": [
    {
     "name": "stdout",
     "output_type": "stream",
     "text": [
      "Matrix:\n",
      " [[2 3]\n",
      " [1 4]]\n",
      "\n",
      "Vector:\n",
      " [5 6]\n",
      "\n",
      "Result of multiplication:\n",
      " [28 29]\n"
     ]
    }
   ],
   "source": [
    "import numpy as np\n",
    "\n",
    "# Define a 2x2 square matrix\n",
    "matrix = np.array([[2, 3],\n",
    "                   [1, 4]])\n",
    "\n",
    "# Define a vector of size 2\n",
    "vector = np.array([5, 6])\n",
    "\n",
    "# Multiply the matrix by the vector\n",
    "result = np.dot(matrix, vector)\n",
    "\n",
    "# Display the result\n",
    "print(\"Matrix:\\n\", matrix)\n",
    "print(\"\\nVector:\\n\", vector)\n",
    "print(\"\\nResult of multiplication:\\n\", result)\n"
   ]
  },
  {
   "cell_type": "markdown",
   "id": "975c2284",
   "metadata": {},
   "source": [
    "## Manipulating Complex Column Vectors using NumPy\n",
    "Here we demonstrate how to manipulate complex column vectors using NumPy, including operations like sum, negation, multiplication by a scalar, transpose, adjunct, and conjugate."
   ]
  },
  {
   "cell_type": "code",
   "execution_count": 5,
   "id": "e8058abe",
   "metadata": {},
   "outputs": [
    {
     "data": {
      "text/plain": [
       "(array([[3.+2.j],\n",
       "        [8.-2.j],\n",
       "        [5.-3.j]]),\n",
       " array([[-2.-3.j],\n",
       "        [-5.+4.j],\n",
       "        [-1.-1.j]]),\n",
       " array([[ 1.+8.j],\n",
       "        [14.-3.j],\n",
       "        [ 1.+3.j]]),\n",
       " array([[2.+3.j, 5.-4.j, 1.+1.j]]),\n",
       " array([[2.-3.j, 5.+4.j, 1.-1.j]]),\n",
       " array([[2.-3.j],\n",
       "        [5.+4.j],\n",
       "        [1.-1.j]]))"
      ]
     },
     "execution_count": 5,
     "metadata": {},
     "output_type": "execute_result"
    }
   ],
   "source": [
    "\n",
    "import numpy as np\n",
    "\n",
    "# Define two complex column vectors\n",
    "v1 = np.array([[2+3j], [5-4j], [1+1j]])\n",
    "v2 = np.array([[1-1j], [3+2j], [4-4j]])\n",
    "\n",
    "# Sum\n",
    "sum_v = v1 + v2\n",
    "\n",
    "# Negation\n",
    "neg_v1 = -v1\n",
    "\n",
    "# Multiplication by a scalar\n",
    "scalar = 2 + 1j\n",
    "mult_v1 = v1 * scalar\n",
    "\n",
    "# Transpose\n",
    "transpose_v1 = v1.T\n",
    "\n",
    "# Adjunct (Conjugate transpose)\n",
    "adjunct_v1 = v1.T.conj()\n",
    "\n",
    "# Conjugate\n",
    "conjugate_v1 = np.conj(v1)\n",
    "\n",
    "(sum_v, neg_v1, mult_v1, transpose_v1, adjunct_v1, conjugate_v1)\n"
   ]
  },
  {
   "cell_type": "markdown",
   "id": "995ae5fc",
   "metadata": {},
   "source": [
    "# Theory of Vector Spaces using Matrices\n",
    "In the context of matrices, vector spaces can be defined where each vector is a matrix of a particular size. Operations on these matrix-vector spaces include matrix addition, scalar multiplication, matrix negation, transpose, adjunct, and conjugate. In this section, we focus on square matrices of size 3x3."
   ]
  },
  {
   "cell_type": "markdown",
   "id": "9385c1f0",
   "metadata": {},
   "source": [
    "## Manipulating Square Matrices using NumPy\n",
    "Examples of how to manipulate 3x3 square matrices using NumPy, showing operations such as sum, negation, multiplication by a scalar, conjugate, transpose, and adjunct."
   ]
  },
  {
   "cell_type": "code",
   "execution_count": 6,
   "id": "b81ecc57",
   "metadata": {},
   "outputs": [
    {
     "data": {
      "text/plain": [
       "(array([[3.+3.j, 6.+0.j, 3.-3.j],\n",
       "        [1.+1.j, 2.+5.j, 6.-2.j],\n",
       "        [7.+3.j, 8.-2.j, 5.+3.j]]),\n",
       " array([[-2.-3.j, -4.+1.j, -0.-0.j],\n",
       "        [-1.-1.j, -3.-3.j, -5.-0.j],\n",
       "        [-4.-0.j, -6.+2.j, -1.+1.j]]),\n",
       " array([[-0.5+2.5j,  2.5+1.5j,  0. +0.j ],\n",
       "        [ 0. +1.j ,  0. +3.j ,  2.5+2.5j],\n",
       "        [ 2. +2.j ,  4. +2.j ,  1. +0.j ]]),\n",
       " array([[2.-3.j, 4.+1.j, 0.-0.j],\n",
       "        [1.-1.j, 3.-3.j, 5.-0.j],\n",
       "        [4.-0.j, 6.+2.j, 1.+1.j]]),\n",
       " array([[2.+3.j, 1.+1.j, 4.+0.j],\n",
       "        [4.-1.j, 3.+3.j, 6.-2.j],\n",
       "        [0.+0.j, 5.+0.j, 1.-1.j]]),\n",
       " array([[2.-3.j, 1.-1.j, 4.-0.j],\n",
       "        [4.+1.j, 3.-3.j, 6.+2.j],\n",
       "        [0.-0.j, 5.-0.j, 1.+1.j]]))"
      ]
     },
     "execution_count": 6,
     "metadata": {},
     "output_type": "execute_result"
    }
   ],
   "source": [
    "\n",
    "# Define two 3x3 complex matrices\n",
    "m1 = np.array([[2+3j, 4-1j, 0], \n",
    "               [1+1j, 3+3j, 5], \n",
    "               [4, 6-2j, 1-1j]])\n",
    "m2 = np.array([[1, 2+1j, 3-3j], \n",
    "               [0, -1+2j, 1-2j], \n",
    "               [3+3j, 2, 4+4j]])\n",
    "\n",
    "# Sum\n",
    "sum_m = m1 + m2\n",
    "\n",
    "# Negation\n",
    "neg_m1 = -m1\n",
    "\n",
    "# Multiplication by a scalar\n",
    "scalar = 0.5 + 0.5j\n",
    "mult_m1 = m1 * scalar\n",
    "\n",
    "# Conjugate\n",
    "conjugate_m1 = np.conjugate(m1)\n",
    "\n",
    "# Transpose\n",
    "transpose_m1 = m1.T\n",
    "\n",
    "# Adjunct (Conjugate transpose)\n",
    "adjunct_m1 = m1.T.conj()\n",
    "\n",
    "(sum_m, neg_m1, mult_m1, conjugate_m1, transpose_m1, adjunct_m1)\n"
   ]
  },
  {
   "cell_type": "markdown",
   "id": "ed909545-8a5c-4cca-85f7-48688b597598",
   "metadata": {},
   "source": [
    "## Checking the Dimension of a Matrix\n",
    "We can check the dimension of a matrix using the `.shape` attribute."
   ]
  },
  {
   "cell_type": "code",
   "execution_count": 7,
   "id": "0930dc10-af6d-427f-bbcb-75bfaf051db5",
   "metadata": {},
   "outputs": [
    {
     "data": {
      "text/plain": [
       "(3, 3)"
      ]
     },
     "execution_count": 7,
     "metadata": {},
     "output_type": "execute_result"
    }
   ],
   "source": [
    "# Checking the dimension of matrix1\n",
    "m1.shape"
   ]
  },
  {
   "cell_type": "markdown",
   "id": "b3fe896b",
   "metadata": {},
   "source": [
    "## Action of a Matrix on a Vector\n",
    "Finally, examples of how to use Python to multiply a 3x3 square matrix by a 3x1 column vector."
   ]
  },
  {
   "cell_type": "code",
   "execution_count": null,
   "id": "e514d047",
   "metadata": {},
   "outputs": [],
   "source": [
    "\n",
    "# Multiplying a 3x3 matrix by a 3x1 vector\n",
    "result = np.dot(m1, v1)\n",
    "result\n"
   ]
  },
  {
   "cell_type": "markdown",
   "id": "5adf9d8a-af43-4074-ab1a-3cabdc4accff",
   "metadata": {},
   "source": [
    "# Exercises on Complex Vectors and Matrices with Concrete Cases\n",
    "\n",
    "This set of exercises focuses on operations with complex column vectors and complex square matrices, including concrete cases with vectors and matrices written in LaTeX format.\n",
    "\n",
    "## Complex Column Vector Operations\n",
    "\n",
    "### Exercise 1: Sum of Two Complex Vectors\n",
    "Given two complex vectors \n",
    "$$ v1 = \\begin{bmatrix} 1 + 2i \\\\ 3 - i \\end{bmatrix} $$ \n",
    "and \n",
    "$$ v2 = \\begin{bmatrix} 2 - i \\\\ 4 + 2i \\end{bmatrix} $$, \n",
    "find their sum.\n",
    "\n",
    "### Exercise 2: Negation of a Complex Vector\n",
    "Given a complex vector \n",
    "$$ v = \\begin{bmatrix} 2 + 3i \\\\ 1 - 2i \\end{bmatrix} $$, \n",
    "find its negation.\n",
    "\n",
    "### Exercise 3: Multiplication of a Complex Vector by a Scalar\n",
    "Multiply the complex vector \n",
    "$$ v = \\begin{bmatrix} 1 - i \\\\ 2 + 2i \\end{bmatrix} $$ \n",
    "by the complex scalar $$ 3 + i $$.\n",
    "\n",
    "### Exercise 4: Transpose of a Complex Vector\n",
    "Find the transpose of the complex vector \n",
    "$$ v = \\begin{bmatrix} 2 - i \\\\ 3 + 4i \\end{bmatrix} $$.\n",
    "\n",
    "### Exercise 5: Conjugate of a Complex Vector\n",
    "Compute the conjugate of the complex vector \n",
    "$$ v = \\begin{bmatrix} 1 + i \\\\ 2 - 3i \\end{bmatrix} $$.\n",
    "\n",
    "### Exercise 6: Adjunct (Conjugate Transpose) of a Complex Vector\n",
    "Find the adjunct (or conjugate transpose) of the complex vector \n",
    "$$ v = \\begin{bmatrix} 1 - 2i \\\\ 3 + i \\end{bmatrix} $$.\n",
    "\n",
    "## Complex Square Matrix Operations\n",
    "\n",
    "### Exercise 7: Sum of Two Complex Matrices\n",
    "Given two complex matrices \n",
    "$$ m1 = \\begin{bmatrix} 1 + i & 2 - i \\\\ 3 + 2i & 4 \\end{bmatrix} $$ \n",
    "and \n",
    "$$ m2 = \\begin{bmatrix} 2 - 3i & 1 \\\\ i & 2 + 2i \\end{bmatrix} $$, \n",
    "calculate their sum.\n",
    "\n",
    "### Exercise 8: Negation of a Complex Matrix\n",
    "Find the negation of the complex matrix \n",
    "$$ m = \\begin{bmatrix} 2 + i & 3 \\\\ 1 - i & 2 + 2i \\end{bmatrix} $$.\n",
    "\n",
    "### Exercise 9: Multiplication of a Complex Matrix by a Scalar\n",
    "Multiply the complex matrix \n",
    "$$ m = \\begin{bmatrix} 1 - i & 2 \\\\ 3 + i & 4 - 2i \\end{bmatrix} $$ \n",
    "by the complex scalar $$ 2 + 3i $$.\n",
    "\n",
    "### Exercise 10: Conjugate of a Complex Matrix\n",
    "Compute the conjugate of the complex matrix \n",
    "$$ m = \\begin{bmatrix} 1 + i & 2 \\\\ 3 - i & 4 + 2i \\end{bmatrix} $$.\n",
    "\n",
    "### Exercise 11: Transpose of a Complex Matrix\n",
    "Find the transpose of the complex matrix \n",
    "$$ m = \\begin{bmatrix} 1 - i & 2 + 2i \\\\ 3 & 4 - i \\end{bmatrix} $$.\n",
    "\n",
    "### Exercise 12: Adjunct (Conjugate Transpose) of a Complex Matrix\n",
    "Calculate the adjunct (or conjugate transpose) of the complex matrix \n",
    "$$ m = \\begin{bmatrix} 1 + 2i & 3 - i \\\\ 4 & 5 + i \\end{bmatrix} $$.\n",
    "\n",
    "### Exercise 13: Checking the Dimensions of a Matrix\n",
    "Determine the dimensions of the complex matrix \n",
    "$$ m = \\begin{bmatrix} 1 - i & 2 \\\\ 3 + 2i & 4 - i \\end{bmatrix} $$.\n",
    "\n",
    "## Multiplication of Matrices and Vectors\n",
    "\n",
    "### Exercise 14: Multiplying a Complex Square Matrix by a Complex Column Vector\n",
    "Multiply the complex square matrix \n",
    "$$ m = \\begin{bmatrix} 1 + i & 2 - i \\\\ 3 & 4 + i \\end{bmatrix} $$ \n",
    "by the complex column vector \n",
    "$$ v = \\begin{bmatrix} 2 - i \\\\ 1 + 3i \\end{bmatrix} $$.\n",
    "\n",
    "## Instructions\n",
    "For each exercise, ensure to display both the input (vectors/matrices) and the result of the operation.Use NumPy for these exercises to practice handling complex numbers and matrix operations in Python.\n"
   ]
  },
  {
   "cell_type": "markdown",
   "id": "7d6651f7-3b1b-4fd4-989a-881c335e53d1",
   "metadata": {},
   "source": [
    "# Respuestas:\n",
    "\n",
    "## Complex Column Vector Operations\n",
    "\n",
    "### Exercise 1: Sum of Two Complex Vectors\n",
    "\n",
    "Given two complex vectors \n",
    "$$ v1 = \\begin{bmatrix} 1 + 2i \\\\ 3 - i \\end{bmatrix} $$ \n",
    "and \n",
    "$$ v2 = \\begin{bmatrix} 2 - i \\\\ 4 + 2i \\end{bmatrix} $$, \n",
    "find their sum.\n",
    "\n",
    "### Respuesta\n",
    "\n",
    "Como se ve en la salida del código, la respuesta correcta es:\n",
    "\n",
    "$$ v1 + v2 = \\begin{bmatrix} 3 + i \\\\ 7 + i \\end{bmatrix} $$\n"
   ]
  },
  {
   "cell_type": "code",
   "execution_count": 10,
   "id": "f1273f71-8492-4186-86c9-26963abce7e5",
   "metadata": {},
   "outputs": [
    {
     "name": "stdout",
     "output_type": "stream",
     "text": [
      "v1 = \n",
      " [[1.+2.j]\n",
      " [3.-1.j]]\n",
      "v2 = \n",
      " [[2.-1.j]\n",
      " [4.+2.j]]\n",
      "v1 + v2 = \n",
      " [[3.+1.j]\n",
      " [7.+1.j]]\n"
     ]
    }
   ],
   "source": [
    "v1 = np.array([[1+2j], [3-1j]])\n",
    "v2 = np.array([[2-1j], [4+2j]])\n",
    "print (\"v1 = \\n\", v1)\n",
    "print (\"v2 = \\n\", v2)\n",
    "\n",
    "suma = v1 + v2\n",
    "\n",
    "print( \"v1 + v2 = \\n\", suma)"
   ]
  },
  {
   "cell_type": "markdown",
   "id": "3fbdb841-b38d-4994-be0a-0ad626b8c403",
   "metadata": {},
   "source": [
    "### Exercise 2: Negation of a Complex Vector\n",
    "Given a complex vector \n",
    "$$ v = \\begin{bmatrix} 2 + 3i \\\\ 1 - 2i \\end{bmatrix} $$, \n",
    "find its negation.\n",
    "\n",
    "### Respuesta\n",
    "\n",
    "Como se ve en la salida del código, la respuesta correcta es :\n",
    "\n",
    "$$ -v = \\begin{bmatrix} -2 - 3i \\\\ -1 + 2i \\end{bmatrix} $$"
   ]
  },
  {
   "cell_type": "code",
   "execution_count": 13,
   "id": "c9c03ef2-829f-4ec5-9e11-9ca8ecb955ef",
   "metadata": {},
   "outputs": [
    {
     "name": "stdout",
     "output_type": "stream",
     "text": [
      "v = \n",
      " [[2.+3.j]\n",
      " [1.-2.j]]\n",
      "-v = \n",
      " [[-2.-3.j]\n",
      " [-1.+2.j]]\n"
     ]
    }
   ],
   "source": [
    "v = np.array([[2+3j], [1-2j]])\n",
    "\n",
    "print (\"v = \\n\", v)\n",
    "\n",
    "negacion = -v\n",
    "print (\"-v = \\n\", negacion)"
   ]
  },
  {
   "cell_type": "markdown",
   "id": "bf1c8c6e-99ee-404a-aed6-638f008b3ba5",
   "metadata": {},
   "source": [
    "### Exercise 3: Multiplication of a Complex Vector by a Scalar\n",
    "Multiply the complex vector \n",
    "$$ v = \\begin{bmatrix} 1 - i \\\\ 2 + 2i \\end{bmatrix} $$ \n",
    "by the complex scalar $$ c = 3 + i $$\n",
    "\n",
    "### Respuesta\n",
    "\n",
    "Como se ve en la salida del código, la respuesta correcta es:\n",
    "\n",
    "$$ v * c= \\begin{bmatrix} 4 - 2i \\\\ 4 + 8i \\end{bmatrix} $$ "
   ]
  },
  {
   "cell_type": "code",
   "execution_count": 14,
   "id": "070a9f7f-a7b8-493b-a8d9-3b1f9ee6f228",
   "metadata": {},
   "outputs": [
    {
     "name": "stdout",
     "output_type": "stream",
     "text": [
      "v = \n",
      " [[1.-1.j]\n",
      " [2.+2.j]]\n",
      "c = \n",
      " [3.+1.j]\n",
      "v * c = \n",
      " [[4.-2.j]\n",
      " [4.+8.j]]\n"
     ]
    }
   ],
   "source": [
    "v = np.array([[1-1j], [2+2j]])\n",
    "c = np.array([3+1j])\n",
    "\n",
    "print(\"v = \\n\", v)\n",
    "print(\"c = \\n\", c)\n",
    "\n",
    "multi = c * v\n",
    "\n",
    "print(\"v * c = \\n\", multi)"
   ]
  },
  {
   "cell_type": "markdown",
   "id": "e63bf28c-20ed-458c-9b76-1e9f52530527",
   "metadata": {},
   "source": [
    "### Exercise 4: Transpose of a Complex Vector\n",
    "Find the transpose of the complex vector \n",
    "$$ v = \\begin{bmatrix} 2 - i \\\\ 3 + 4i \\end{bmatrix} $$.\n",
    "\n",
    "### Respuesta\n",
    "\n",
    "Como se ve en el código, la respuesta correcta es:\n",
    "\n",
    "$$ v^T = \\begin{bmatrix} 2 - i & 3 + 4i \\end{bmatrix} $$"
   ]
  },
  {
   "cell_type": "code",
   "execution_count": 16,
   "id": "e792925c-9697-4959-9385-d0a9f92e624c",
   "metadata": {},
   "outputs": [
    {
     "name": "stdout",
     "output_type": "stream",
     "text": [
      "v = \n",
      " [[2.-1.j]\n",
      " [3.+4.j]]\n",
      "v_transpuesta = \n",
      " [[2.-1.j 3.+4.j]]\n"
     ]
    }
   ],
   "source": [
    "v = np.array([[2-1j], [3+4j]])\n",
    "\n",
    "print(\"v = \\n\", v)\n",
    "\n",
    "v_transpuesta = v.T\n",
    "\n",
    "print(\"v_transpuesta = \\n\", v_transpuesta)"
   ]
  },
  {
   "cell_type": "markdown",
   "id": "bfdbd6b9-85a1-4f6c-bd95-7d2aeafccf57",
   "metadata": {},
   "source": [
    "### Exercise 5: Conjugate of a Complex Vector\n",
    "Compute the conjugate of the complex vector \n",
    "$$ v = \\begin{bmatrix} 1 + i \\\\ 2 - 3i \\end{bmatrix} $$.\n",
    "\n",
    "### Respuesta\n",
    "\n",
    "Como se ve en el código, la respuesta correcta es:\n",
    "\n",
    "$$ v-conjugada = \\begin{bmatrix} 1 - i \\\\ 2 + 3i \\end{bmatrix} $$"
   ]
  },
  {
   "cell_type": "code",
   "execution_count": 18,
   "id": "98499e0a-a70f-4d80-a6ac-c60107c3cc33",
   "metadata": {},
   "outputs": [
    {
     "name": "stdout",
     "output_type": "stream",
     "text": [
      "v = \n",
      " [[1.+1.j]\n",
      " [2.-3.j]]\n",
      "v_conjugada = \n",
      " [[1.-1.j]\n",
      " [2.+3.j]]\n"
     ]
    }
   ],
   "source": [
    "v = np.array([[1 + 1j], [2 - 3j]])\n",
    "\n",
    "print(\"v = \\n\", v)\n",
    "\n",
    "v_conjugada = v.conj()\n",
    "\n",
    "print(\"v_conjugada = \\n\", v_conjugada)"
   ]
  },
  {
   "cell_type": "markdown",
   "id": "a630d5ca-305b-4ec1-9553-0988ed9208c3",
   "metadata": {},
   "source": [
    "### Exercise 6: Adjunct (Conjugate Transpose) of a Complex Vector\n",
    "Find the adjunct (or conjugate transpose) of the complex vector \n",
    "$$ v = \\begin{bmatrix} 1 - 2i \\\\ 3 + i \\end{bmatrix} $$.\n",
    "\n",
    "### Respuesta\n",
    "\n",
    "Como se ve en el código, la respuesta correcta es:\n",
    "\n",
    "$$ v^t = \\begin{bmatrix} 1 + 2i & 3 - i \\end{bmatrix} $$"
   ]
  },
  {
   "cell_type": "code",
   "execution_count": 19,
   "id": "b3237358-c49b-4818-895a-1a10dc2ffe8e",
   "metadata": {},
   "outputs": [
    {
     "name": "stdout",
     "output_type": "stream",
     "text": [
      "v = \n",
      " [[1.-2.j]\n",
      " [3.+1.j]]\n",
      "v_adjunta = \n",
      " [[1.+2.j 3.-1.j]]\n"
     ]
    }
   ],
   "source": [
    "v = np.array([[1 - 2j], [3 + 1j]])\n",
    "\n",
    "print(\"v = \\n\", v)\n",
    "\n",
    "v_adjunta = v.T.conj()\n",
    "\n",
    "print(\"v_adjunta = \\n\", v_adjunta)"
   ]
  },
  {
   "cell_type": "markdown",
   "id": "a7b2fce1-e15e-46ed-9c12-46bc50ee4085",
   "metadata": {},
   "source": [
    "## Complex Square Matrix Operations\n",
    "\n",
    "### Exercise 7: Sum of Two Complex Matrices\n",
    "Given two complex matrices \n",
    "$$ m1 = \\begin{bmatrix} 1 + i & 2 - i \\\\ 3 + 2i & 4 \\end{bmatrix} $$ \n",
    "and \n",
    "$$ m2 = \\begin{bmatrix} 2 - 3i & 1 \\\\ i & 2 + 2i \\end{bmatrix} $$, \n",
    "calculate their sum.\n",
    "\n",
    "### Respuesta\n",
    "\n",
    "Como se ve en el código, la respuesta correcta es:\n",
    "\n",
    "$$ m1 + m2 = \\begin{bmatrix} 3 - 2i & 3 - i \\\\ 3 + 3i & 6 + 2i \\end{bmatrix} $$"
   ]
  },
  {
   "cell_type": "code",
   "execution_count": 22,
   "id": "801dd675-9608-4a9c-89ae-4d29848c3b0e",
   "metadata": {},
   "outputs": [
    {
     "name": "stdout",
     "output_type": "stream",
     "text": [
      "m1 = \n",
      " [[1.+1.j 2.-1.j]\n",
      " [3.+2.j 4.+0.j]]\n",
      "m2 = \n",
      " [[2.-3.j 1.+0.j]\n",
      " [0.+1.j 2.+2.j]]\n",
      "m1 + m1 = \n",
      " [[3.-2.j 3.-1.j]\n",
      " [3.+3.j 6.+2.j]]\n"
     ]
    }
   ],
   "source": [
    "m1 = np.array([[1 + 1j, 2 - 1j],\n",
    "               [ 3 + 2j, 4]])\n",
    "m2 = np.array([[2 - 3j, 1],\n",
    "               [ 1j, 2 + 2j]])\n",
    "\n",
    "print(\"m1 = \\n\", m1)\n",
    "print(\"m2 = \\n\", m2)\n",
    "\n",
    "suma = m1 + m2\n",
    "\n",
    "print(\"m1 + m1 = \\n\", suma)\n"
   ]
  },
  {
   "cell_type": "markdown",
   "id": "7998ea8c-1f9e-45e7-a82c-ab623574345a",
   "metadata": {},
   "source": [
    "### Exercise 8: Negation of a Complex Matrix\n",
    "Find the negation of the complex matrix \n",
    "$$ m = \\begin{bmatrix} 2 + i & 3 \\\\ 1 - i & 2 + 2i \\end{bmatrix} $$.\n",
    "\n",
    "\n",
    "### Respuesta\n",
    "\n",
    "Como se ve en el código, la respuesta correcta es:\n",
    "\n",
    "$$ -m = \\begin{bmatrix} -2 - i & -3 \\\\ -1 + i & -2 - 2i \\end{bmatrix} $$"
   ]
  },
  {
   "cell_type": "code",
   "execution_count": 27,
   "id": "23a7f743-407d-4955-bd89-fc0dc8d1e094",
   "metadata": {},
   "outputs": [
    {
     "name": "stdout",
     "output_type": "stream",
     "text": [
      "m = \n",
      " [[2.+1.j 3.+0.j]\n",
      " [1.-1.j 2.+2.j]]\n",
      "-m = \n",
      " [[-2.-1.j -3.-0.j]\n",
      " [-1.+1.j -2.-2.j]]\n"
     ]
    }
   ],
   "source": [
    "m = np.array([[2 + 1j, 3],\n",
    "             [1 - 1j, 2 + 2j]])\n",
    "print(\"m = \\n\", m)\n",
    "\n",
    "m_negacion = -m\n",
    "\n",
    "print(\"-m = \\n\", m_negacion)"
   ]
  },
  {
   "cell_type": "markdown",
   "id": "c6a7f30e-5ccb-416d-a474-75464a961763",
   "metadata": {},
   "source": [
    "### Exercise 9: Multiplication of a Complex Matrix by a Scalar\n",
    "Multiply the complex matrix \n",
    "$$ m = \\begin{bmatrix} 1 - i & 2 \\\\ 3 + i & 4 - 2i \\end{bmatrix} $$ \n",
    "by the complex scalar $$ c = 2 + 3i $$.\n",
    "\n",
    "### Respuesta\n",
    "\n",
    "Como se ve en el código, la respuesta correcta es:\n",
    "\n",
    "$$ m * c = \\begin{bmatrix} 1  & 1 + 1i \\\\ 1 + 2i & 3 + 1i \\end{bmatrix} $$"
   ]
  },
  {
   "cell_type": "code",
   "execution_count": 28,
   "id": "2774d572-586f-4517-9f79-e33a8a2517ce",
   "metadata": {},
   "outputs": [
    {
     "name": "stdout",
     "output_type": "stream",
     "text": [
      "m = \n",
      " [[1.-1.j 2.+0.j]\n",
      " [3.+1.j 4.-2.j]]\n",
      "c = \n",
      " (0.5+0.5j)\n",
      "m * c = \n",
      " [[1.+0.j 1.+1.j]\n",
      " [1.+2.j 3.+1.j]]\n"
     ]
    }
   ],
   "source": [
    "m = np.array([[1 - 1j, 2],\n",
    "             [3 + 1j, 4 - 2j]])\n",
    "print(\"m = \\n\", m)\n",
    "\n",
    "c = 0.5 + 0.5j\n",
    "print(\"c = \\n\", c)\n",
    "\n",
    "multi_c = m * c\n",
    "print(\"m * c = \\n\", multi_c)"
   ]
  },
  {
   "cell_type": "markdown",
   "id": "cc1fbb43-8668-459d-ae06-f43e96f5a628",
   "metadata": {},
   "source": [
    "### Exercise 10: Conjugate of a Complex Matrix\n",
    "Compute the conjugate of the complex matrix \n",
    "$$ m = \\begin{bmatrix} 1 + i & 2 \\\\ 3 - i & 4 + 2i \\end{bmatrix} $$.\n",
    "\n",
    "### Respuesta\n",
    "\n",
    "Como se ve en el código, la respuesta correcta es:\n",
    "\n",
    "$$ m-conjugada = \\begin{bmatrix} 1 - i & 2 \\\\ 3 + i & 4 - 2i \\end{bmatrix} $$"
   ]
  },
  {
   "cell_type": "code",
   "execution_count": 29,
   "id": "3a91b8a2-3142-47ab-ae55-2032d3bd91b5",
   "metadata": {},
   "outputs": [
    {
     "name": "stdout",
     "output_type": "stream",
     "text": [
      "m = \n",
      " [[1.+1.j 2.+0.j]\n",
      " [3.-1.j 4.+2.j]]\n",
      "m_conjugada = \n",
      " [[1.-1.j 2.-0.j]\n",
      " [3.+1.j 4.-2.j]]\n"
     ]
    }
   ],
   "source": [
    "m = np.array([[1 + 1j, 2],\n",
    "             [3 - 1j, 4 + 2j]])\n",
    "print(\"m = \\n\", m)\n",
    "\n",
    "m_conjugada = m.conj()\n",
    "print(\"m_conjugada = \\n\", m_conjugada)"
   ]
  },
  {
   "cell_type": "markdown",
   "id": "172a4cd3-1a27-4a4d-9742-36cda63379b6",
   "metadata": {},
   "source": [
    "### Exercise 11: Transpose of a Complex Matrix\n",
    "Find the transpose of the complex matrix \n",
    "$$ m = \\begin{bmatrix} 1 - i & 2 + 2i \\\\ 3 & 4 - i \\end{bmatrix} $$.\n",
    "\n",
    "### Respuesta\n",
    "\n",
    "Como se ve en el código, la respuesta correcta es:\n",
    "\n",
    "$$ m^T = \\begin{bmatrix} 1 - i & 3 \\\\ 2 + 2i & 4 - i \\end{bmatrix} $$"
   ]
  },
  {
   "cell_type": "code",
   "execution_count": 31,
   "id": "09ed2886-a77e-466b-80bf-140feaaf7bb0",
   "metadata": {},
   "outputs": [
    {
     "name": "stdout",
     "output_type": "stream",
     "text": [
      "m = \n",
      " [[1.-1.j 2.+2.j]\n",
      " [3.+0.j 4.-1.j]]\n",
      "m_transpuesta = \n",
      " [[1.-1.j 3.+0.j]\n",
      " [2.+2.j 4.-1.j]]\n"
     ]
    }
   ],
   "source": [
    "m = np.array([[1 - 1j, 2 + 2j],\n",
    "              [3, 4 - 1j]])\n",
    "print(\"m = \\n\", m)\n",
    "\n",
    "m_transpuesta = m.T\n",
    "print(\"m_transpuesta = \\n\", m_transpuesta)"
   ]
  },
  {
   "cell_type": "markdown",
   "id": "d1b7bd75-9566-4f80-8606-cb435bc48507",
   "metadata": {},
   "source": [
    "### Exercise 12: Adjunct (Conjugate Transpose) of a Complex Matrix\n",
    "Calculate the adjunct (or conjugate transpose) of the complex matrix \n",
    "$$ m = \\begin{bmatrix} 1 + 2i & 3 - i \\\\ 4 & 5 + i \\end{bmatrix} $$.\n",
    "\n",
    "### Respuesta\n",
    "\n",
    "Como se ve en el código, la respuesta correcta es:\n",
    "\n",
    "$$ m^t = \\begin{bmatrix} 1 - 2i & 4 \\\\ 3 + i & 5 - i \\end{bmatrix} $$"
   ]
  },
  {
   "cell_type": "code",
   "execution_count": 33,
   "id": "e3fb3256-63e4-4006-9ae6-2793fd361399",
   "metadata": {},
   "outputs": [
    {
     "name": "stdout",
     "output_type": "stream",
     "text": [
      "m = \n",
      " [[1.+2.j 3.-1.j]\n",
      " [4.+0.j 5.+1.j]]\n",
      "m_adjunta = \n",
      " [[1.-2.j 4.-0.j]\n",
      " [3.+1.j 5.-1.j]]\n"
     ]
    }
   ],
   "source": [
    "m = np.array([[1 + 2j, 3 - 1j],\n",
    "             [4 , 5 + 1j]])\n",
    "print(\"m = \\n\", m)\n",
    "\n",
    "m_adjunta = m.T.conj()\n",
    "print(\"m_adjunta = \\n\", m_adjunta)"
   ]
  },
  {
   "cell_type": "markdown",
   "id": "c9d763ed-3a37-4cbc-8005-51dfd324e2fe",
   "metadata": {},
   "source": [
    "### Exercise 13: Checking the Dimensions of a Matrix\n",
    "Determine the dimensions of the complex matrix \n",
    "$$ m = \\begin{bmatrix} 1 - i & 2 \\\\ 3 + 2i & 4 - i \\end{bmatrix} $$.\n",
    "\n",
    "### Respuesta\n",
    "\n",
    "Como se ve en el código, la respuesta correcta es:\n",
    "\n",
    "$$ dimensions = (2, 2) $$"
   ]
  },
  {
   "cell_type": "code",
   "execution_count": 35,
   "id": "b35fab2f-f891-474b-8347-47a5f902b11c",
   "metadata": {},
   "outputs": [
    {
     "name": "stdout",
     "output_type": "stream",
     "text": [
      "m = \n",
      " [[1.-1.j 2.+0.j]\n",
      " [3.+2.j 4.-1.j]]\n",
      "dimensions: \n",
      " (2, 2)\n"
     ]
    }
   ],
   "source": [
    "m = np.array([[1 - 1j, 2], \n",
    "             [3 + 2j, 4 - 1j]])\n",
    "print(\"m = \\n\", m)\n",
    "\n",
    "check = m.shape\n",
    "\n",
    "print(\"dimensions: \\n\", check)"
   ]
  },
  {
   "cell_type": "markdown",
   "id": "e39c8e5c-bcca-49b9-a749-06bd0bc411c5",
   "metadata": {},
   "source": [
    "## Multiplication of Matrices and Vectors\n",
    "\n",
    "### Exercise 14: Multiplying a Complex Square Matrix by a Complex Column Vector\n",
    "Multiply the complex square matrix \n",
    "$$ m = \\begin{bmatrix} 1 + i & 2 - i \\\\ 3 & 4 + i \\end{bmatrix} $$ \n",
    "by the complex column vector \n",
    "$$ v = \\begin{bmatrix} 2 - i \\\\ 1 + 3i \\end{bmatrix} $$.\n",
    "\n",
    "### Respuesta\n",
    "\n",
    "Como se ve en el código, la respuesta correcta es:\n",
    "\n",
    "$$ m*v = \\begin{bmatrix} 8 + 6i \\\\ 7 + 10i \\end{bmatrix} $$"
   ]
  },
  {
   "cell_type": "code",
   "execution_count": 38,
   "id": "364f226e-46c6-4034-82d8-f8377442aa7c",
   "metadata": {},
   "outputs": [
    {
     "name": "stdout",
     "output_type": "stream",
     "text": [
      "m = \n",
      " [[1.+1.j 2.-1.j]\n",
      " [3.+0.j 4.+1.j]]\n",
      "v = \n",
      " [[2.-1.j]\n",
      " [1.+3.j]]\n",
      "m * v = \n",
      " [[8. +6.j]\n",
      " [7.+10.j]]\n"
     ]
    }
   ],
   "source": [
    "m = np.array([[1 + 1j, 2 - 1j],\n",
    "              [3, 4 + 1j]])\n",
    "\n",
    "v = np.array([[2 - 1j],\n",
    "             [1 + 3j]])\n",
    "\n",
    "print(\"m = \\n\", m)\n",
    "print(\"v = \\n\", v)\n",
    "\n",
    "multi = np.dot(m, v)\n",
    "print(\"m * v = \\n\", multi)"
   ]
  }
 ],
 "metadata": {
  "kernelspec": {
   "display_name": "Python 3 (ipykernel)",
   "language": "python",
   "name": "python3"
  },
  "language_info": {
   "codemirror_mode": {
    "name": "ipython",
    "version": 3
   },
   "file_extension": ".py",
   "mimetype": "text/x-python",
   "name": "python",
   "nbconvert_exporter": "python",
   "pygments_lexer": "ipython3",
   "version": "3.12.0"
  }
 },
 "nbformat": 4,
 "nbformat_minor": 5
}
